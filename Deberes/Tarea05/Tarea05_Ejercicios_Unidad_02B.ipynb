{
 "cells": [
  {
   "cell_type": "markdown",
   "id": "a7dceb5a",
   "metadata": {},
   "source": [
    "<p align=\"center\">\n",
    "  <strong>ESCUELA POLITÉCNICA NACIONAL</strong><br>\n",
    "  <strong>FACULTAD DE INGENIERÍA DE SISTEMAS</strong><br>\n",
    "  <strong>MÉTODOS NUMÉRICOS</strong>\n",
    "</p>\n",
    "\n",
    "<hr>\n",
    "\n",
    "<h2 align=\"center\">Método de Newton y de la Secante</h2>\n",
    "\n",
    "<p align=\"center\">\n",
    "  Richard Tipantiza<br>\n",
    "  2025-05-15\n",
    "</p>\n"
   ]
  },
  {
   "cell_type": "markdown",
   "id": "f0fb458b",
   "metadata": {},
   "source": [
    "# CONJUNTO DE EJERCICIOS\n",
    "\n",
    "1. Sea $f(x) = -x^3 - \\cos x$ y $p_0 = -1$.  \n",
    "Use el método de Newton y el método de la Secante para encontrar $p_2$.  \n",
    "\n",
    "¿Se podría usar $p_0 = 0$?\n"
   ]
  },
  {
   "cell_type": "code",
   "execution_count": 2,
   "id": "2a4064a0",
   "metadata": {},
   "outputs": [
    {
     "name": "stdout",
     "output_type": "stream",
     "text": [
      "Método de Newton: p1 = -0.865474, p2 = -0.865474\n",
      "Método de la Secante: p2 = -0.865474\n",
      "\n",
      "¿p0 = 0 válido en Newton? No (división por cero en f'(0)).\n",
      "¿p0 = 0 válido en Secante? Sí, si se elige p1 ≠ 0 y f(p0) ≠ f(p1).\n"
     ]
    }
   ],
   "source": [
    "import math\n",
    "\n",
    "# Definición de la función y su derivada\n",
    "def f(x):\n",
    "    return -x**3 - math.cos(x)\n",
    "\n",
    "def df(x):\n",
    "    return -3*x**2 + math.sin(x)\n",
    "\n",
    "# Método de Newton\n",
    "def newton(p0, tol=1e-6, max_iter=100):\n",
    "    for i in range(max_iter):\n",
    "        p = p0 - f(p0) / df(p0)\n",
    "        if abs(p - p0) < tol:\n",
    "            return p\n",
    "        p0 = p\n",
    "    return p0\n",
    "\n",
    "# Método de la Secante\n",
    "def secante(p0, p1, tol=1e-6, max_iter=100):\n",
    "    for i in range(max_iter):\n",
    "        p = p1 - f(p1) * (p1 - p0) / (f(p1) - f(p0))\n",
    "        if abs(p - p1) < tol:\n",
    "            return p\n",
    "        p0, p1 = p1, p\n",
    "    return p1\n",
    "\n",
    "# Resultados\n",
    "p0 = -1\n",
    "p1_newton = newton(p0)  # p1 usando Newton (1 iteración)\n",
    "p2_newton = newton(p1_newton)  # p2 usando Newton (2 iteraciones)\n",
    "p2_secante = secante(p0, p1_newton)  # p2 usando Secante\n",
    "\n",
    "print(f\"Método de Newton: p1 = {p1_newton:.6f}, p2 = {p2_newton:.6f}\")\n",
    "print(f\"Método de la Secante: p2 = {p2_secante:.6f}\")\n",
    "\n",
    "# Verificación de p0 = 0\n",
    "try:\n",
    "    newton(0)\n",
    "except ZeroDivisionError:\n",
    "    print(\"\\n¿p0 = 0 válido en Newton? No (división por cero en f'(0)).\")\n",
    "print(\"¿p0 = 0 válido en Secante? Sí, si se elige p1 ≠ 0 y f(p0) ≠ f(p1).\")"
   ]
  },
  {
   "cell_type": "markdown",
   "id": "8e988a16",
   "metadata": {},
   "source": [
    "2. Encuentre soluciones precisas dentro de $10^{-4}$ para los siguientes problemas:\n",
    "\n",
    "a. $x^3 - 2x^2 - 5 = 0$, en el intervalo $[1, 4]$  \n",
    "\n"
   ]
  },
  {
   "cell_type": "code",
   "execution_count": 7,
   "id": "0b8a68f3",
   "metadata": {},
   "outputs": [
    {
     "name": "stdout",
     "output_type": "stream",
     "text": [
      "Literal a) Solución: 2.690647\n"
     ]
    }
   ],
   "source": [
    "import math\n",
    "\n",
    "def f_a(x):\n",
    "    return x**3 - 2*x**2 - 5\n",
    "\n",
    "def biseccion(f, a, b, tol=1e-4, max_iter=100):\n",
    "    if f(a) * f(b) >= 0:\n",
    "        raise ValueError(\"No hay cambio de signo en el intervalo.\")\n",
    "    for _ in range(max_iter):\n",
    "        c = (a + b) / 2\n",
    "        if abs(f(c)) < tol:\n",
    "            return c\n",
    "        if f(a) * f(c) < 0:\n",
    "            b = c\n",
    "        else:\n",
    "            a = c\n",
    "    return c\n",
    "\n",
    "sol_a = biseccion(f_a, 1, 4)\n",
    "print(f\"Literal a) Solución: {sol_a:.6f}\")"
   ]
  },
  {
   "cell_type": "markdown",
   "id": "943e3e7a",
   "metadata": {},
   "source": [
    "b. $x^3 + 3x^2 - 1 = 0$, en el intervalo $[-3, -2]$  "
   ]
  },
  {
   "cell_type": "code",
   "execution_count": 8,
   "id": "cf7bf194",
   "metadata": {},
   "outputs": [
    {
     "name": "stdout",
     "output_type": "stream",
     "text": [
      "Literal b) Solución: -2.879395\n"
     ]
    }
   ],
   "source": [
    "def f_b(x):\n",
    "    return x**3 + 3*x**2 - 1\n",
    "\n",
    "sol_b = biseccion(f_b, -3, -2)\n",
    "print(f\"Literal b) Solución: {sol_b:.6f}\")"
   ]
  },
  {
   "cell_type": "markdown",
   "id": "0e063558",
   "metadata": {},
   "source": [
    "c. $x - \\cos x = 0$, en el intervalo $\\left[0, \\frac{\\pi}{2}\\right]$  "
   ]
  },
  {
   "cell_type": "code",
   "execution_count": 9,
   "id": "5c7c141a",
   "metadata": {},
   "outputs": [
    {
     "name": "stdout",
     "output_type": "stream",
     "text": [
      "Literal c) Solución: 0.739085\n"
     ]
    }
   ],
   "source": [
    "def f_c(x):\n",
    "    return x - math.cos(x)\n",
    "\n",
    "def df_c(x):\n",
    "    return 1 + math.sin(x)\n",
    "\n",
    "def newton(f, df, p0, tol=1e-4, max_iter=100):\n",
    "    for _ in range(max_iter):\n",
    "        p = p0 - f(p0) / df(p0)\n",
    "        if abs(p - p0) < tol:\n",
    "            return p\n",
    "        p0 = p\n",
    "    return p0\n",
    "\n",
    "sol_c = newton(f_c, df_c, 1)  # p0 = 1 es un punto inicial razonable\n",
    "print(f\"Literal c) Solución: {sol_c:.6f}\")"
   ]
  },
  {
   "cell_type": "markdown",
   "id": "f04d27d3",
   "metadata": {},
   "source": [
    "d. $x - 0.8 - 0.2 \\sin x = 0$, en el intervalo $\\left[0, \\frac{\\pi}{2}\\right]$"
   ]
  },
  {
   "cell_type": "code",
   "execution_count": 10,
   "id": "0a59d0cd",
   "metadata": {},
   "outputs": [
    {
     "name": "stdout",
     "output_type": "stream",
     "text": [
      "Literal d) Solución: 0.964334\n"
     ]
    }
   ],
   "source": [
    "def f_d(x):\n",
    "    return x - 0.8 - 0.2 * math.sin(x)\n",
    "\n",
    "def secante(f, p0, p1, tol=1e-4, max_iter=100):\n",
    "    for _ in range(max_iter):\n",
    "        p = p1 - f(p1) * (p1 - p0) / (f(p1) - f(p0))\n",
    "        if abs(p - p1) < tol:\n",
    "            return p\n",
    "        p0, p1 = p1, p\n",
    "    return p1\n",
    "\n",
    "sol_d = secante(f_d, 0, math.pi/2)\n",
    "print(f\"Literal d) Solución: {sol_d:.6f}\")"
   ]
  },
  {
   "cell_type": "markdown",
   "id": "d45da58b",
   "metadata": {},
   "source": [
    "3.  Use los dos métodos en esta sección para encontrar las soluciones dentro de $10^{-5}$ para los siguientes problemas:\n",
    "\n",
    "a. $3x - e^x = 0$ para $1 \\leq x \\leq 2$  \n",
    "\n",
    "\n"
   ]
  },
  {
   "cell_type": "code",
   "execution_count": 11,
   "id": "f28f2380",
   "metadata": {},
   "outputs": [
    {
     "name": "stdout",
     "output_type": "stream",
     "text": [
      "Literal a) Bisección: 1.5121307\n"
     ]
    }
   ],
   "source": [
    "import math\n",
    "\n",
    "def f_a(x):\n",
    "    return 3*x - math.exp(x)\n",
    "\n",
    "def biseccion(f, a, b, tol=1e-5, max_iter=100):\n",
    "    if f(a) * f(b) >= 0:\n",
    "        raise ValueError(\"No hay cambio de signo en el intervalo.\")\n",
    "    for _ in range(max_iter):\n",
    "        c = (a + b) / 2\n",
    "        if abs(f(c)) < tol:\n",
    "            return c\n",
    "        if f(a) * f(c) < 0:\n",
    "            b = c\n",
    "        else:\n",
    "            a = c\n",
    "    return c\n",
    "\n",
    "sol_a_biseccion = biseccion(f_a, 1, 2)\n",
    "print(f\"Literal a) Bisección: {sol_a_biseccion:.7f}\")"
   ]
  },
  {
   "cell_type": "code",
   "execution_count": 13,
   "id": "3e186dc9",
   "metadata": {},
   "outputs": [
    {
     "name": "stdout",
     "output_type": "stream",
     "text": [
      "Literal a) Newton: 1.5121346\n"
     ]
    }
   ],
   "source": [
    "def df_a(x):\n",
    "    return 3 - math.exp(x)  # Derivada de f_a(x)\n",
    "\n",
    "def newton(f, df, p0, tol=1e-5, max_iter=100):\n",
    "    for _ in range(max_iter):\n",
    "        p = p0 - f(p0) / df(p0)\n",
    "        if abs(p - p0) < tol:\n",
    "            return p\n",
    "        p0 = p\n",
    "    return p0\n",
    "\n",
    "sol_a_newton = newton(f_a, df_a, 1.5)  # p0 = 1.5 es un punto inicial adecuado\n",
    "print(f\"Literal a) Newton: {sol_a_newton:.7f}\")"
   ]
  },
  {
   "cell_type": "markdown",
   "id": "a074e5bc",
   "metadata": {},
   "source": [
    "b. $2x + 3 \\cos x - e^x = 0$ para $1 \\leq x \\leq 2$"
   ]
  },
  {
   "cell_type": "code",
   "execution_count": 14,
   "id": "450274d1",
   "metadata": {},
   "outputs": [
    {
     "name": "stdout",
     "output_type": "stream",
     "text": [
      "Literal b) Bisección: 1.2397156\n"
     ]
    }
   ],
   "source": [
    "def f_b(x):\n",
    "    return 2*x + 3*math.cos(x) - math.exp(x)\n",
    "\n",
    "sol_b_biseccion = biseccion(f_b, 1, 2)\n",
    "print(f\"Literal b) Bisección: {sol_b_biseccion:.7f}\")"
   ]
  },
  {
   "cell_type": "code",
   "execution_count": 15,
   "id": "30258876",
   "metadata": {},
   "outputs": [
    {
     "name": "stdout",
     "output_type": "stream",
     "text": [
      "Literal b) Newton: 1.2397147\n"
     ]
    }
   ],
   "source": [
    "def df_b(x):\n",
    "    return 2 - 3*math.sin(x) - math.exp(x)  # Derivada de f_b(x)\n",
    "\n",
    "sol_b_newton = newton(f_b, df_b, 1.5)  # p0 = 1.5\n",
    "print(f\"Literal b) Newton: {sol_b_newton:.7f}\")"
   ]
  },
  {
   "cell_type": "markdown",
   "id": "229632f4",
   "metadata": {},
   "source": [
    "4. El polinomio de cuarto grado\n",
    "\n",
    "$$\n",
    "f(x) = 230x^4 + 18x^3 + 9x^2 - 221x - 9\n",
    "$$\n",
    "\n",
    "tiene dos ceros reales, uno en $[-1, 0]$ y el otro en $[0, 1]$.  \n",
    "\n",
    "Intente aproximar estos ceros dentro de $10^{-6}$ usando:  \n",
    "\n",
    "a. El método de la secante (use los extremos del intervalo como estimaciones iniciales).  "
   ]
  },
  {
   "cell_type": "code",
   "execution_count": 17,
   "id": "b94d56d9",
   "metadata": {},
   "outputs": [
    {
     "name": "stdout",
     "output_type": "stream",
     "text": [
      "Cero en [-1, 0] (Secante): -0.0406593\n",
      "Cero en [0, 1] (Secante): -0.0406593\n"
     ]
    }
   ],
   "source": [
    "import math\n",
    "\n",
    "def f(x):\n",
    "    return 230*x**4 + 18*x**3 + 9*x**2 - 221*x - 9\n",
    "\n",
    "def secante(f, p0, p1, tol=1e-6, max_iter=100):\n",
    "    for _ in range(max_iter):\n",
    "        p = p1 - f(p1) * (p1 - p0) / (f(p1) - f(p0))\n",
    "        if abs(p - p1) < tol:\n",
    "            return p\n",
    "        p0, p1 = p1, p\n",
    "    return p1\n",
    "\n",
    "# Cero en [-1, 0]\n",
    "cero_secante_neg = secante(f, -1, 0)\n",
    "print(f\"Cero en [-1, 0] (Secante): {cero_secante_neg:.7f}\")\n",
    "\n",
    "# Cero en [0, 1]\n",
    "cero_secante_pos = secante(f, 0, 1)\n",
    "print(f\"Cero en [0, 1] (Secante): {cero_secante_pos:.7f}\")"
   ]
  },
  {
   "cell_type": "markdown",
   "id": "8bcb0f7a",
   "metadata": {},
   "source": [
    "b. El método de Newton (use el punto medio como estimación inicial)."
   ]
  },
  {
   "cell_type": "code",
   "execution_count": 18,
   "id": "0f372c7d",
   "metadata": {},
   "outputs": [
    {
     "name": "stdout",
     "output_type": "stream",
     "text": [
      "Cero en [-1, 0] (Newton): -0.0406593\n",
      "Cero en [0, 1] (Newton): -0.0406593\n"
     ]
    }
   ],
   "source": [
    "def df(x):\n",
    "    return 920*x**3 + 54*x**2 + 18*x - 221\n",
    "\n",
    "def newton(f, df, p0, tol=1e-6, max_iter=100):\n",
    "    for _ in range(max_iter):\n",
    "        p = p0 - f(p0) / df(p0)\n",
    "        if abs(p - p0) < tol:\n",
    "            return p\n",
    "        p0 = p\n",
    "    return p0\n",
    "\n",
    "# Cero en [-1, 0] (p0 = -0.5)\n",
    "cero_newton_neg = newton(f, df, -0.5)\n",
    "print(f\"Cero en [-1, 0] (Newton): {cero_newton_neg:.7f}\")\n",
    "\n",
    "# Cero en [0, 1] (p0 = 0.5)\n",
    "cero_newton_pos = newton(f, df, 0.5)\n",
    "print(f\"Cero en [0, 1] (Newton): {cero_newton_pos:.7f}\")"
   ]
  },
  {
   "cell_type": "markdown",
   "id": "8b4afec7",
   "metadata": {},
   "source": [
    "5. La función \n",
    "\n",
    "$$\n",
    "f(x) = \\tan(\\pi x) - 6\n",
    "$$\n",
    "\n",
    "tiene un cero en \n",
    "\n",
    "$$\n",
    "\\left(\\frac{1}{\\pi}\\right) \\arctan(6) \\approx 0.447431543\n",
    "$$\n",
    "\n",
    "Sea $p_0 = 0$ y $p_1 = 0.48$. Use **10 iteraciones** en cada uno de los siguientes métodos para aproximar esta raíz:\n",
    "\n",
    "a. Método de bisección  \n",
    "\n"
   ]
  },
  {
   "cell_type": "code",
   "execution_count": 26,
   "id": "f2bc6be5",
   "metadata": {},
   "outputs": [],
   "source": [
    "import math\n",
    "\n",
    "def f(x):\n",
    "    return math.tan(math.pi * x) - 6\n"
   ]
  },
  {
   "cell_type": "code",
   "execution_count": 27,
   "id": "a8ba2ff3",
   "metadata": {},
   "outputs": [
    {
     "name": "stdout",
     "output_type": "stream",
     "text": [
      "Iteración 1: p = 0.24\n",
      "Iteración 2: p = 0.36\n",
      "Iteración 3: p = 0.42\n",
      "Iteración 4: p = 0.44999999999999996\n",
      "Iteración 5: p = 0.43499999999999994\n",
      "Iteración 6: p = 0.44249999999999995\n",
      "Iteración 7: p = 0.4462499999999999\n",
      "Iteración 8: p = 0.44812499999999994\n",
      "Iteración 9: p = 0.44718749999999996\n",
      "Iteración 10: p = 0.44765625\n"
     ]
    }
   ],
   "source": [
    "def bisection(f, a, b, n):\n",
    "    for i in range(n):\n",
    "        p = (a + b) / 2\n",
    "        print(f\"Iteración {i+1}: p = {p}\")\n",
    "        if f(a) * f(p) < 0:\n",
    "            b = p\n",
    "        else:\n",
    "            a = p\n",
    "\n",
    "# Ejecutar 10 iteraciones\n",
    "bisection(f, 0, 0.48, 10)\n"
   ]
  },
  {
   "cell_type": "markdown",
   "id": "91403302",
   "metadata": {},
   "source": [
    "b. Método de Newton  "
   ]
  },
  {
   "cell_type": "code",
   "execution_count": 28,
   "id": "5fd4f320",
   "metadata": {},
   "outputs": [
    {
     "name": "stdout",
     "output_type": "stream",
     "text": [
      "Iteración 1: p = 0.4675825019258912\n",
      "Iteración 2: p = 0.4551291915177739\n",
      "Iteración 3: p = 0.4485512339384831\n",
      "Iteración 4: p = 0.4474551842507058\n",
      "Iteración 5: p = 0.4474315538237576\n",
      "Iteración 6: p = 0.4474315432887487\n",
      "Iteración 7: p = 0.4474315432887466\n",
      "Iteración 8: p = 0.44743154328874657\n",
      "Iteración 9: p = 0.4474315432887466\n",
      "Iteración 10: p = 0.44743154328874657\n"
     ]
    }
   ],
   "source": [
    "def df(x):\n",
    "    return math.pi * (1 / math.cos(math.pi * x))**2\n",
    "\n",
    "def newton(f, df, p0, n):\n",
    "    for i in range(n):\n",
    "        p1 = p0 - f(p0) / df(p0)\n",
    "        print(f\"Iteración {i+1}: p = {p1}\")\n",
    "        p0 = p1\n",
    "\n",
    "# Ejecutar 10 iteraciones\n",
    "newton(f, df, 0.48, 10)\n"
   ]
  },
  {
   "cell_type": "markdown",
   "id": "6685fc97",
   "metadata": {},
   "source": [
    "c. Método de la secante  "
   ]
  },
  {
   "cell_type": "code",
   "execution_count": 29,
   "id": "d79b620c",
   "metadata": {},
   "outputs": [
    {
     "name": "stdout",
     "output_type": "stream",
     "text": [
      "Iteración 1: p = 0.18119424169051174\n",
      "Iteración 2: p = 0.2861871658222898\n",
      "Iteración 3: p = 1.0919861065027499\n",
      "Iteración 4: p = -3.6922966654011073\n",
      "Iteración 5: p = -22.60064985474053\n",
      "Iteración 6: p = -57.22283247260205\n",
      "Iteración 7: p = 3.5387581457345476\n",
      "Iteración 8: p = -113.94440504807905\n",
      "Iteración 9: p = -195.89499482451663\n",
      "Iteración 10: p = -2989.9400375314453\n"
     ]
    }
   ],
   "source": [
    "def secante(f, p0, p1, n):\n",
    "    for i in range(n):\n",
    "        p = p1 - f(p1) * (p1 - p0) / (f(p1) - f(p0))\n",
    "        print(f\"Iteración {i+1}: p = {p}\")\n",
    "        p0, p1 = p1, p\n",
    "\n",
    "# Ejecutar 10 iteraciones\n",
    "secante(f, 0, 0.48, 10)\n"
   ]
  },
  {
   "cell_type": "markdown",
   "id": "68f78729",
   "metadata": {},
   "source": [
    "**¿Cuál método es más eficaz y por qué?**\n",
    "\n",
    "- Creo que Newton probablemente convergerá más rápido si se inicia cerca de la raíz por lo que sería la más eficaz aunq bajo una condición. "
   ]
  },
  {
   "cell_type": "markdown",
   "id": "56aa5111",
   "metadata": {},
   "source": [
    "6. La función descrita por \n",
    "\n",
    "$$\n",
    "f(x) = \\ln(x^2 + 1) - e^{0.4x} \\cos(\\pi x)\n",
    "$$\n",
    "\n",
    "tiene un número infinito de ceros.\n",
    "\n"
   ]
  },
  {
   "cell_type": "code",
   "execution_count": 30,
   "id": "9d6f6f29",
   "metadata": {},
   "outputs": [],
   "source": [
    "import math\n",
    "\n",
    "def f(x):\n",
    "    return math.log(x**2 + 1) - math.exp(0.4 * x) * math.cos(math.pi * x)\n"
   ]
  },
  {
   "cell_type": "code",
   "execution_count": 37,
   "id": "6d3f672a",
   "metadata": {},
   "outputs": [],
   "source": [
    "def bisection(f, a, b, tol=1e-6, max_iter=100):\n",
    "    fa, fb = f(a), f(b)\n",
    "    if fa * fb > 0:\n",
    "        raise ValueError(\"El intervalo no contiene un cambio de signo.\")\n",
    "    \n",
    "    for i in range(max_iter):\n",
    "        p = (a + b) / 2\n",
    "        fp = f(p)\n",
    "        print(f\"Iteración {i+1}: p = {p}\")\n",
    "        if abs(fp) < tol or (b - a) / 2 < tol:\n",
    "            return p\n",
    "        if fa * fp < 0:\n",
    "            b, fb = p, fp\n",
    "        else:\n",
    "            a, fa = p, fp\n",
    "    return (a + b) / 2\n",
    "\n"
   ]
  },
  {
   "cell_type": "markdown",
   "id": "b2705a5b",
   "metadata": {},
   "source": [
    "a. Determine, dentro de $10^{-6}$, el único cero negativo. "
   ]
  },
  {
   "cell_type": "code",
   "execution_count": 44,
   "id": "94328f3b",
   "metadata": {},
   "outputs": [
    {
     "name": "stdout",
     "output_type": "stream",
     "text": [
      "Intervalo con cambio de signo encontrado: (-0.500000000000001, -0.400000000000001)\n",
      "Iteración 1: p = -0.450000000000001\n",
      "Iteración 2: p = -0.42500000000000104\n",
      "Iteración 3: p = -0.437500000000001\n",
      "Iteración 4: p = -0.431250000000001\n",
      "Iteración 5: p = -0.434375000000001\n",
      "Iteración 6: p = -0.43281250000000104\n",
      "Iteración 7: p = -0.433593750000001\n",
      "Iteración 8: p = -0.433984375000001\n",
      "Iteración 9: p = -0.434179687500001\n",
      "Iteración 10: p = -0.434082031250001\n",
      "Iteración 11: p = -0.434130859375001\n",
      "Iteración 12: p = -0.43415527343750104\n",
      "Iteración 13: p = -0.434143066406251\n",
      "\n",
      "Cero negativo encontrado: -0.434143066406251\n"
     ]
    }
   ],
   "source": [
    "def buscar_intervalo_signo(f, a, b, paso=0.1):\n",
    "    x = a\n",
    "    while x + paso <= b:\n",
    "        try:\n",
    "            if f(x) * f(x + paso) < 0:\n",
    "                return (x, x + paso)\n",
    "        except:\n",
    "            pass  # Evita errores por dominios no válidos\n",
    "        x += paso\n",
    "    return None\n",
    "\n",
    "# Buscar intervalo negativo donde haya cambio de signo\n",
    "intervalo_neg = buscar_intervalo_signo(f, -5, 0)\n",
    "\n",
    "if intervalo_neg:\n",
    "    print(f\"Intervalo con cambio de signo encontrado: {intervalo_neg}\")\n",
    "    raiz_neg = bisection(f, intervalo_neg[0], intervalo_neg[1])\n",
    "    print(f\"\\nCero negativo encontrado: {raiz_neg}\")\n",
    "else:\n",
    "    print(\"No se encontró intervalo negativo con cambio de signo.\")\n"
   ]
  },
  {
   "cell_type": "markdown",
   "id": "9842e70a",
   "metadata": {},
   "source": [
    "b. Determine, dentro de $10^{-6}$, los cuatro ceros positivos más pequeños.  \n"
   ]
  },
  {
   "cell_type": "code",
   "execution_count": 39,
   "id": "249a8b1f",
   "metadata": {},
   "outputs": [
    {
     "name": "stdout",
     "output_type": "stream",
     "text": [
      "Iteración 1: p = 0.25\n",
      "Iteración 2: p = 0.375\n",
      "Iteración 3: p = 0.4375\n",
      "Iteración 4: p = 0.46875\n",
      "Iteración 5: p = 0.453125\n",
      "Iteración 6: p = 0.4453125\n",
      "Iteración 7: p = 0.44921875\n",
      "Iteración 8: p = 0.451171875\n",
      "Iteración 9: p = 0.4501953125\n",
      "Iteración 10: p = 0.45068359375\n",
      "Iteración 11: p = 0.450439453125\n",
      "Iteración 12: p = 0.4505615234375\n",
      "Iteración 13: p = 0.45062255859375\n",
      "Iteración 14: p = 0.450653076171875\n",
      "Iteración 15: p = 0.4506683349609375\n",
      "Iteración 16: p = 0.45066070556640625\n",
      "Iteración 17: p = 0.4506568908691406\n",
      "Cero #1 en: 0.4506568908691406\n",
      "Iteración 1: p = 0.35\n",
      "Iteración 2: p = 0.475\n",
      "Iteración 3: p = 0.4125\n",
      "Iteración 4: p = 0.44375\n",
      "Iteración 5: p = 0.459375\n",
      "Iteración 6: p = 0.4515625\n",
      "Iteración 7: p = 0.44765625\n",
      "Iteración 8: p = 0.449609375\n",
      "Iteración 9: p = 0.4505859375\n",
      "Iteración 10: p = 0.45107421875\n",
      "Iteración 11: p = 0.450830078125\n",
      "Iteración 12: p = 0.4507080078125\n",
      "Iteración 13: p = 0.45064697265625\n",
      "Iteración 14: p = 0.450677490234375\n",
      "Iteración 15: p = 0.4506622314453125\n",
      "Iteración 16: p = 0.45065460205078123\n",
      "Iteración 17: p = 0.45065841674804685\n",
      "Iteración 18: p = 0.45065650939941404\n",
      "Iteración 19: p = 0.45065746307373045\n",
      "Cero #2 en: 0.45065746307373045\n",
      "Iteración 1: p = 0.44999999999999996\n",
      "Iteración 2: p = 0.575\n",
      "Iteración 3: p = 0.5125\n",
      "Iteración 4: p = 0.48124999999999996\n",
      "Iteración 5: p = 0.46562499999999996\n",
      "Iteración 6: p = 0.45781249999999996\n",
      "Iteración 7: p = 0.45390624999999996\n",
      "Iteración 8: p = 0.45195312499999996\n",
      "Iteración 9: p = 0.45097656249999996\n",
      "Iteración 10: p = 0.45048828124999996\n",
      "Iteración 11: p = 0.45073242187499996\n",
      "Iteración 12: p = 0.45061035156249996\n",
      "Iteración 13: p = 0.45067138671874996\n",
      "Iteración 14: p = 0.45064086914062496\n",
      "Iteración 15: p = 0.45065612792968746\n",
      "Iteración 16: p = 0.4506637573242187\n",
      "Iteración 17: p = 0.4506599426269531\n",
      "Iteración 18: p = 0.45065803527832027\n",
      "Iteración 19: p = 0.45065708160400386\n",
      "Cero #3 en: 0.45065708160400386\n",
      "Iteración 1: p = 0.55\n",
      "Iteración 2: p = 0.42500000000000004\n",
      "Iteración 3: p = 0.48750000000000004\n",
      "Iteración 4: p = 0.45625000000000004\n",
      "Iteración 5: p = 0.44062500000000004\n",
      "Iteración 6: p = 0.44843750000000004\n",
      "Iteración 7: p = 0.45234375000000004\n",
      "Iteración 8: p = 0.45039062500000004\n",
      "Iteración 9: p = 0.45136718750000004\n",
      "Iteración 10: p = 0.45087890625000004\n",
      "Iteración 11: p = 0.45063476562500004\n",
      "Iteración 12: p = 0.45075683593750004\n",
      "Iteración 13: p = 0.45069580078125004\n",
      "Iteración 14: p = 0.45066528320312504\n",
      "Iteración 15: p = 0.45065002441406254\n",
      "Iteración 16: p = 0.4506576538085938\n",
      "Iteración 17: p = 0.45065383911132817\n",
      "Iteración 18: p = 0.450655746459961\n",
      "Iteración 19: p = 0.4506567001342774\n",
      "Cero #4 en: 0.4506567001342774\n",
      "\n",
      "Ceros positivos encontrados:\n",
      "Cero #1: 0.4506568908691406\n",
      "Cero #2: 0.45065746307373045\n",
      "Cero #3: 0.45065708160400386\n",
      "Cero #4: 0.4506567001342774\n"
     ]
    }
   ],
   "source": [
    "ceros = []\n",
    "x = 0\n",
    "while len(ceros) < 4:\n",
    "    if f(x) * f(x + 0.5) < 0:\n",
    "        cero = bisection(f, x, x + 0.5)\n",
    "        ceros.append(cero)\n",
    "        print(f\"Cero #{len(ceros)} en: {cero}\")\n",
    "    x += 0.1\n",
    "\n",
    "print(\"\\nCeros positivos encontrados:\")\n",
    "for i, c in enumerate(ceros, 1):\n",
    "    print(f\"Cero #{i}: {c}\")\n"
   ]
  },
  {
   "cell_type": "markdown",
   "id": "12c4299d",
   "metadata": {},
   "source": [
    "\n",
    "c. Determine una aproximación inicial razonable para encontrar el enésimo cero positivo más pequeño de $f$.  \n",
    "**[Sugerencia: Dibuje una gráfica aproximada de $f$.]**\n",
    "\n"
   ]
  },
  {
   "cell_type": "code",
   "execution_count": 40,
   "id": "36466d6e",
   "metadata": {},
   "outputs": [
    {
     "name": "stdout",
     "output_type": "stream",
     "text": [
      "Aproximación inicial para el cero #1: 1.4\n",
      "Aproximación inicial para el cero #2: 2.4\n",
      "Aproximación inicial para el cero #3: 3.4\n",
      "Aproximación inicial para el cero #4: 4.4\n",
      "Aproximación inicial para el cero #5: 5.4\n"
     ]
    }
   ],
   "source": [
    "def estimar_cero(n):\n",
    "    return (2 * n + 1) / 2 - 0.1  # Ajuste hacia la izquierda\n",
    "\n",
    "# Ejemplo:\n",
    "for n in range(1, 6):\n",
    "    print(f\"Aproximación inicial para el cero #{n}: {estimar_cero(n)}\")\n"
   ]
  },
  {
   "cell_type": "markdown",
   "id": "af21381b",
   "metadata": {},
   "source": [
    "d. Use la parte c) para determinar, dentro de $10^{-6}$, el vigésimo quinto cero positivo más pequeño de $f$."
   ]
  },
  {
   "cell_type": "code",
   "execution_count": 41,
   "id": "597f1d72",
   "metadata": {},
   "outputs": [
    {
     "name": "stdout",
     "output_type": "stream",
     "text": [
      "Iteración 1: p = 25.5\n",
      "Iteración 2: p = 25.549999999999997\n",
      "Iteración 3: p = 25.525\n",
      "Iteración 4: p = 25.5125\n",
      "Iteración 5: p = 25.50625\n",
      "Iteración 6: p = 25.503125\n",
      "Iteración 7: p = 25.5015625\n",
      "Iteración 8: p = 25.50078125\n",
      "Iteración 9: p = 25.500390625\n",
      "Iteración 10: p = 25.5001953125\n",
      "Iteración 11: p = 25.50009765625\n",
      "Iteración 12: p = 25.500048828125\n",
      "Iteración 13: p = 25.500073242187497\n",
      "Iteración 14: p = 25.500085449218748\n",
      "Iteración 15: p = 25.50007934570312\n",
      "Iteración 16: p = 25.50007629394531\n",
      "Iteración 17: p = 25.500077819824213\n",
      "Iteración 18: p = 25.500077056884763\n",
      "\n",
      "Cero positivo número 25: 25.500077056884763\n"
     ]
    }
   ],
   "source": [
    "n = 25\n",
    "x0 = estimar_cero(n)\n",
    "x1 = x0 + 0.2  # Tomamos un pequeño intervalo a la derecha\n",
    "if f(x0) * f(x1) < 0:\n",
    "    raiz_25 = bisection(f, x0, x1)\n",
    "    print(f\"\\nCero positivo número 25: {raiz_25}\")\n",
    "else:\n",
    "    print(\"No se encontró cambio de signo en el intervalo. Intenta ajustar x0.\")\n"
   ]
  },
  {
   "cell_type": "markdown",
   "id": "8695cb26",
   "metadata": {},
   "source": [
    "7. La función \n",
    "\n",
    "$$\n",
    "f(x) = x^{1/3}\n",
    "$$\n",
    "\n",
    "tiene una raíz en $x = 0$.  \n",
    "\n",
    "Usando un punto de inicio $x = 1$ para el método de **Newton**, y $p_0 = 5$, $p_1 = 0.5$ para el método de la **secante**, compare los resultados de ambos métodos.\n",
    "\n",
    "**¿Cuál método se comporta mejor en este caso? ¿Cuál converge más rápido o más consistentemente hacia la raíz?**\n"
   ]
  },
  {
   "cell_type": "code",
   "execution_count": 45,
   "id": "20342ac7",
   "metadata": {},
   "outputs": [],
   "source": [
    "def f(x):\n",
    "    return x**(1/3)\n",
    "\n",
    "def df(x):\n",
    "    # Derivada de x^(1/3) = (1/3) * x^(-2/3)\n",
    "    if x == 0:\n",
    "        return float('inf')  # evitar división por cero\n",
    "    return (1/3) * x**(-2/3)\n"
   ]
  },
  {
   "cell_type": "code",
   "execution_count": 46,
   "id": "6e51b251",
   "metadata": {},
   "outputs": [],
   "source": [
    "def newton(f, df, p0, n=10):\n",
    "    print(\"Método de Newton:\")\n",
    "    for i in range(n):\n",
    "        p1 = p0 - f(p0)/df(p0)\n",
    "        print(f\"Iteración {i+1}: p = {p1}\")\n",
    "        p0 = p1\n"
   ]
  },
  {
   "cell_type": "code",
   "execution_count": 47,
   "id": "b0393517",
   "metadata": {},
   "outputs": [
    {
     "name": "stdout",
     "output_type": "stream",
     "text": [
      "Método de Newton:\n",
      "Iteración 1: p = -2.0\n",
      "Iteración 2: p = (4-2.2893847434456487e-15j)\n",
      "Iteración 3: p = (-7.999999999999998+4.5787694868912965e-15j)\n",
      "Iteración 4: p = (15.999999999999991-2.195811558520189e-14j)\n",
      "Iteración 5: p = (-31.99999999999998+4.391623117040377e-14j)\n",
      "Iteración 6: p = (63.999999999999936-1.1889466323432573e-13j)\n",
      "Iteración 7: p = (-127.99999999999983+2.377893264686514e-13j)\n",
      "Iteración 8: p = (255.9999999999996-6.413344150144774e-13j)\n",
      "Iteración 9: p = (-511.99999999999903+1.282668830028954e-12j)\n",
      "Iteración 10: p = (1023.9999999999977-2.1878942263561007e-12j)\n"
     ]
    }
   ],
   "source": [
    "# Ejecutar Newton\n",
    "newton(f, df, 1, 10)\n"
   ]
  },
  {
   "cell_type": "code",
   "execution_count": 48,
   "id": "b6f5d8fc",
   "metadata": {},
   "outputs": [],
   "source": [
    "def secante(f, p0, p1, n=10):\n",
    "    print(\"\\nMétodo de la Secante:\")\n",
    "    for i in range(n):\n",
    "        denom = f(p1) - f(p0)\n",
    "        if denom == 0:\n",
    "            print(\"División por cero en la iteración\", i+1)\n",
    "            break\n",
    "        p = p1 - f(p1) * (p1 - p0) / denom\n",
    "        print(f\"Iteración {i+1}: p = {p}\")\n",
    "        p0, p1 = p1, p\n"
   ]
  },
  {
   "cell_type": "code",
   "execution_count": 49,
   "id": "a4c9b636",
   "metadata": {},
   "outputs": [
    {
     "name": "stdout",
     "output_type": "stream",
     "text": [
      "\n",
      "Método de la Secante:\n",
      "Iteración 1: p = -3.3980117618223327\n",
      "Iteración 2: p = (0.42342548212957754-2.373791283892393j)\n",
      "Iteración 3: p = (-2.506434572816832-3.343001585580911j)\n",
      "Iteración 4: p = (1.537946395028479+6.125822678839629j)\n",
      "Iteración 5: p = (-7.895622939891771+3.325889225481498j)\n",
      "Iteración 6: p = (6.554151215536118-12.735088076137382j)\n",
      "Iteración 7: p = (-12.95378376757566-12.317401136903326j)\n",
      "Iteración 8: p = (5.468753662426424+30.80985385003664j)\n",
      "Iteración 9: p = (-35.05958741642519+15.886948700273436j)\n",
      "Iteración 10: p = (32.050165663512885-59.72033599449141j)\n"
     ]
    }
   ],
   "source": [
    "# Ejecutar Secante\n",
    "secante(f, 5, 0.5, 10)\n"
   ]
  },
  {
   "cell_type": "markdown",
   "id": "725bd27e",
   "metadata": {},
   "source": [
    "- Newton no converge rápidamente en este caso, porque f'(x) = (1/3)x^{-2/3} se vuelve muy grande cuando x se acerca a 0. Puede incluso divergir.\n",
    "- La secante puede ser más estable aquí, ya que no requiere derivada y evita los problemas con x^(-2/3).\n",
    "- En este caso, la **secante converge más consistentemente** hacia la raíz x = 0."
   ]
  },
  {
   "cell_type": "markdown",
   "id": "04ff8cc4",
   "metadata": {},
   "source": []
  }
 ],
 "metadata": {
  "kernelspec": {
   "display_name": "Python 3",
   "language": "python",
   "name": "python3"
  },
  "language_info": {
   "codemirror_mode": {
    "name": "ipython",
    "version": 3
   },
   "file_extension": ".py",
   "mimetype": "text/x-python",
   "name": "python",
   "nbconvert_exporter": "python",
   "pygments_lexer": "ipython3",
   "version": "3.13.3"
  }
 },
 "nbformat": 4,
 "nbformat_minor": 5
}
