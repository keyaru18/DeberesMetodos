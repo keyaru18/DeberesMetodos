{
 "cells": [
  {
   "cell_type": "markdown",
   "id": "35b7ec00",
   "metadata": {},
   "source": [
    "<p align=\"center\">\n",
    "  <img src=\"../images/logoEpn.jpg\" alt=\"Logo EPN\" width=\"80\"/>\n",
    "</p>\n",
    "\n",
    "<p align=\"center\">\n",
    "  <strong>ESCUELA POLITÉCNICA NACIONAL</strong><br>\n",
    "  <strong>FACULTAD DE INGENIERÍA DE SISTEMAS</strong><br>\n",
    "  <strong>MÉTODOS NUMÉRICOS</strong>\n",
    "</p>\n",
    "\n",
    "<hr>\n",
    "\n",
    "<h2 align=\"center\">Conjunto de Ejercicios 1.3</h2>\n",
    "\n",
    "<p align=\"center\">\n",
    "  Richard Tipantiza<br>\n",
    "  2025-05-11\n",
    "</p>"
   ]
  },
  {
   "cell_type": "markdown",
   "id": "e1360bea",
   "metadata": {},
   "source": [
    "## CONJUNTO DE EJERCICIOS 1.3\n",
    "\n",
    "1. Utilice aritmética de corte de tres dígitos para calcular las siguientes sumas. Para cada parte, ¿Qué método es más preciso y por qué?\n",
    "\n",
    "    a. $\\sum_{i=1}^{10} \\frac{1}{i^2}$  primero por:  $\\frac{1}{1} + \\frac{1}{4} + \\dots + \\frac{1}{100}$  y luego por:  $\\frac{1}{100} + \\frac{1}{81} + \\dots + \\frac{1}{1}$\n",
    "\n",
    "    b. $\\sum_{i=1}^{10} \\frac{1}{i^3}$  primero por:  $\\frac{1}{1} + \\frac{1}{8} + \\frac{1}{27} + \\dots + \\frac{1}{1000}$  y luego por:  $\\frac{1}{1000} + \\frac{1}{729} + \\dots + \\frac{1}{1}$\n",
    "\n",
    "- Pseudocódigo:\n",
    "\n",
    "INICIO\\\n",
    "    Para el literal a y b:\\\n",
    "    1. Definir la secuencia de términos en orden ascendente y descendente\\\n",
    "    2. Implementar función de suma con aritmética de 3 dígitos\\\n",
    "    3. Calcular las sumas\\\n",
    "    4. Comparar con el valor exacto \\\n",
    "    5. Determinar qué método es más preciso\\\n",
    "FIN"
   ]
  },
  {
   "cell_type": "code",
   "execution_count": 34,
   "id": "71f1b641",
   "metadata": {},
   "outputs": [
    {
     "name": "stdout",
     "output_type": "stream",
     "text": [
      "Parte a (Σ 1/i²):\n",
      "Ascendente (menor a mayor): 1.55\n",
      "Descendente (mayor a menor): 1.55\n",
      "Valor exacto: 1.5497677311665408\n",
      "Error ascendente: 2.32e-04\n",
      "Error descendente: 2.32e-04\n",
      "\n",
      "Parte b (Σ 1/i³):\n",
      "Ascendente (menor a mayor): 1.2\n",
      "Descendente (mayor a menor): 1.19\n",
      "Valor exacto: 1.1975319856741933\n",
      "Error ascendente: 2.47e-03\n",
      "Error descendente: 7.53e-03\n",
      "\n",
      "Análisis de términos para 1/i²:\n",
      "Términos ordenados (ascendente): ['0.010000', '0.012346', '0.015625', '0.020408', '0.027778', '0.040000', '0.062500', '0.111111', '0.250000', '1.000000']\n",
      "Términos ordenados (descendente): ['1.000000', '0.250000', '0.111111', '0.062500', '0.040000', '0.027778', '0.020408', '0.015625', '0.012346', '0.010000']\n",
      "\n",
      "Análisis de términos para 1/i³:\n",
      "Términos ordenados (ascendente): ['0.001000', '0.001372', '0.001953', '0.002915', '0.004630', '0.008000', '0.015625', '0.037037', '0.125000', '1.000000']\n",
      "Términos ordenados (descendente): ['1.000000', '0.125000', '0.037037', '0.015625', '0.008000', '0.004630', '0.002915', '0.001953', '0.001372', '0.001000']\n"
     ]
    }
   ],
   "source": [
    "import numpy as np\n",
    "\n",
    "# Implementación en Python\n",
    "def tres_digitos(x):\n",
    "    \"\"\"Redondea a 3 dígitos significativos\"\"\"\n",
    "    if x == 0:\n",
    "        return 0\n",
    "    # Calculamos la potencia de 10 para mantener 3 dígitos significativos\n",
    "    potencia = 3 - 1 - int(np.floor(np.log10(abs(x))))\n",
    "    return round(x, potencia)\n",
    "\n",
    "def suma_ascendente(terminos):\n",
    "    \"\"\"Suma los términos en orden ascendente (del más pequeño al más grande)\"\"\"\n",
    "    suma = 0\n",
    "    # Ordenamos los términos en orden ascendente\n",
    "    terminos_ordenados = sorted(terminos)\n",
    "    for term in terminos_ordenados:\n",
    "        suma = tres_digitos(suma + tres_digitos(term))\n",
    "    return suma\n",
    "\n",
    "def suma_descendente(terminos):\n",
    "    \"\"\"Suma los términos en orden descendente (del más grande al más pequeño)\"\"\"\n",
    "    suma = 0\n",
    "    # Ordenamos los términos en orden descendente\n",
    "    terminos_ordenados = sorted(terminos, reverse=True)\n",
    "    for term in terminos_ordenados:\n",
    "        suma = tres_digitos(suma + tres_digitos(term))\n",
    "    return suma\n",
    "\n",
    "# Parte a: Σ(1/i²) para i=1 a 10\n",
    "terminos_a = [1/(i**2) for i in range(1, 11)]\n",
    "suma_asc_a = suma_ascendente(terminos_a)\n",
    "suma_desc_a = suma_descendente(terminos_a)\n",
    "exacto_a = sum(1/(i**2) for i in range(1, 11))\n",
    "\n",
    "# Parte b: Σ(1/i³) para i=1 a 10\n",
    "terminos_b = [1/(i**3) for i in range(1, 11)]\n",
    "suma_asc_b = suma_ascendente(terminos_b)\n",
    "suma_desc_b = suma_descendente(terminos_b)\n",
    "exacto_b = sum(1/(i**3) for i in range(1, 11))\n",
    "\n",
    "# Resultados\n",
    "print(\"Parte a (Σ 1/i²):\")\n",
    "print(f\"Ascendente (menor a mayor): {suma_asc_a}\")\n",
    "print(f\"Descendente (mayor a menor): {suma_desc_a}\")\n",
    "print(f\"Valor exacto: {exacto_a}\")\n",
    "print(f\"Error ascendente: {abs(suma_asc_a - exacto_a):.2e}\")\n",
    "print(f\"Error descendente: {abs(suma_desc_a - exacto_a):.2e}\")\n",
    "\n",
    "print(\"\\nParte b (Σ 1/i³):\")\n",
    "print(f\"Ascendente (menor a mayor): {suma_asc_b}\")\n",
    "print(f\"Descendente (mayor a menor): {suma_desc_b}\")\n",
    "print(f\"Valor exacto: {exacto_b}\")\n",
    "print(f\"Error ascendente: {abs(suma_asc_b - exacto_b):.2e}\")\n",
    "print(f\"Error descendente: {abs(suma_desc_b - exacto_b):.2e}\")\n",
    "\n",
    "# Análisis adicional: mostrar los términos para entender mejor\n",
    "print(\"\\nAnálisis de términos para 1/i²:\")\n",
    "print(\"Términos ordenados (ascendente):\", [f\"{x:.6f}\" for x in sorted(terminos_a)])\n",
    "print(\"Términos ordenados (descendente):\", [f\"{x:.6f}\" for x in sorted(terminos_a, reverse=True)])\n",
    "\n",
    "print(\"\\nAnálisis de términos para 1/i³:\")\n",
    "print(\"Términos ordenados (ascendente):\", [f\"{x:.6f}\" for x in sorted(terminos_b)])\n",
    "print(\"Términos ordenados (descendente):\", [f\"{x:.6f}\" for x in sorted(terminos_b, reverse=True)])"
   ]
  },
  {
   "cell_type": "markdown",
   "id": "61980ced",
   "metadata": {},
   "source": [
    "En ambos casos, el método de sumar en orden descendente es más preciso porque minimiza el error por truncamiento al sumar primero los términos más pequeños."
   ]
  },
  {
   "cell_type": "markdown",
   "id": "0d1a7df5",
   "metadata": {},
   "source": [
    "2. La serie de Maclaurin para la función arcotangente converge para $-1 < x \\leq 1$ y está dada por:\n",
    "\n",
    "$$\\arctan x = \\lim_{n \\to \\infty} P_n(x) = \\lim_{n \\to \\infty} \\sum_{i=1}^{n} (-1)^{i+1} \\frac{x^{2i-1}}{2i-1}$$\n",
    "\n",
    "- Pseudocódigo:\n",
    "\n",
    "INICIO\\\n",
    "    Parte a:\\\n",
    "    1. Definir función P_n(x) que calcula la suma de la serie hasta n términos\\\n",
    "    2. Inicializar n = 1\\\n",
    "    3. Mientras $|4*P_n(1) - \\pi| \\geq 10^{-3}$         \n",
    "        - Incrementar n\\\n",
    "        - Calcular nuevo $P_{n(1)}$   \n",
    "    4. Devolver n\\\n",
    "    Parte b: \\\n",
    "    1. El mismo proceso pero con tolerancia $10^{-10}$   \n",
    "    2. Encontrar n donde $|4*P_n(1) - π| < 10^{-10}$\\\n",
    "FIN\n",
    "\n",
    "a. Utilice el hecho de que tan⁡ $\\pi⁄4=1$ para determinar el número n de términos de la serie que se necesita sumar para garantizar que $|4P_n(1) - \\pi| < 10^{-3}$\n",
    "\n"
   ]
  },
  {
   "cell_type": "code",
   "execution_count": 35,
   "id": "a9145d90",
   "metadata": {},
   "outputs": [
    {
     "name": "stdout",
     "output_type": "stream",
     "text": [
      "Literal a:\n",
      "Número de términos requeridos: 1000\n",
      "Aproximación de π: 3.1405926538397932\n",
      "Error absoluto: 0.0009999997499998692\n",
      "¿Cumple con 10^-3? Sí\n"
     ]
    }
   ],
   "source": [
    "# Implementación en Python para literal a\n",
    "import math\n",
    "\n",
    "def calcular_terminos_a():\n",
    "    \"\"\"Calcula el número de términos para precisión 10^-3\"\"\"\n",
    "    def P_n(n):\n",
    "        return sum((-1)**(i+1) / (2*i-1) for i in range(1, n+1))\n",
    "    \n",
    "    n = 1\n",
    "    while True:\n",
    "        pi_approx = 4 * P_n(n)\n",
    "        error = abs(pi_approx - math.pi)\n",
    "        if error < 1e-3:\n",
    "            return n\n",
    "        n += 1\n",
    "        if n > 10000:  # Límite seguro para esta precisión\n",
    "            break\n",
    "    return n\n",
    "\n",
    "# Calcular y mostrar resultados\n",
    "n_a = calcular_terminos_a()\n",
    "pi_approx_a = 4 * sum((-1)**(i+1) / (2*i-1) for i in range(1, n_a+1))\n",
    "error_a = abs(pi_approx_a - math.pi)\n",
    "\n",
    "print(\"Literal a:\")\n",
    "print(f\"Número de términos requeridos: {n_a}\")\n",
    "print(f\"Aproximación de π: {pi_approx_a}\")\n",
    "print(f\"Error absoluto: {error_a}\")\n",
    "print(f\"¿Cumple con 10^-3? {'Sí' if error_a < 1e-3 else 'No'}\")"
   ]
  },
  {
   "cell_type": "markdown",
   "id": "b9ba6936",
   "metadata": {},
   "source": [
    "b. El lenguaje de programación C++ requiere que el valor de π se encuentre dentro de $10^{-10}$. ¿Cuántos términos de la serie se necesitarían sumar para obtener este grado de precisión?"
   ]
  },
  {
   "cell_type": "code",
   "execution_count": 48,
   "id": "81561b48",
   "metadata": {},
   "outputs": [
    {
     "name": "stdout",
     "output_type": "stream",
     "text": [
      "\n",
      "Literal b:\n",
      "Número de iteraciones máximo alcanzado: 1000000\n",
      "Valor aproximado de π: 3.1415936535907742\n",
      "Error absoluto: 1.0000009811328425e-06\n",
      "¿Cumple con 10^-10? No\n"
     ]
    }
   ],
   "source": [
    "def expresion(n):\n",
    "    return (-1)**(n + 1) / (2*n - 1)\n",
    "\n",
    "def error_Absoluto(valor_aproximado):\n",
    "    import math\n",
    "    return abs(math.pi - valor_aproximado)\n",
    "\n",
    "# Implementación en Python para literal b\n",
    "def sumatoriaConLimitacion(error_maximo):\n",
    "    sumatoria = 0\n",
    "    contador = 1\n",
    "    mensaje = \"\"\n",
    "\n",
    "    while True:  # Ejecutar hasta alcanzar el error deseado\n",
    "        sumatoria += expresion(contador)\n",
    "        if error_Absoluto(4 * sumatoria) < error_maximo:  # Evaluar error sobre el valor de pi\n",
    "            mensaje = f\"Número de términos necesarios: {contador}\"\n",
    "            break\n",
    "        contador += 1\n",
    "        if contador >= 1000000:\n",
    "            mensaje = f\"Número de iteraciones máximo alcanzado: {contador}\"\n",
    "            break\n",
    "\n",
    "    return sumatoria, mensaje\n",
    "\n",
    "# Parámetro de error para literal b\n",
    "error_maxi = 1e-10\n",
    "suma_aproxi, num_termi = sumatoriaConLimitacion(error_maxi)\n",
    "error_b = error_Absoluto(4 * suma_aproxi)\n",
    "\n",
    "print(\"\\nLiteral b:\")\n",
    "print(num_termi)\n",
    "print(f\"Valor aproximado de π: {4 * suma_aproxi}\")\n",
    "print(f\"Error absoluto: {error_b}\")\n",
    "print(f\"¿Cumple con 10^-10? {'Sí' if error_b < 1e-10 else 'No'}\")"
   ]
  },
  {
   "cell_type": "markdown",
   "id": "4ef8b18a",
   "metadata": {},
   "source": [
    "3. Otra fórmula para calcular $\\pi$ se puede deducir a partir de la identidad $\\frac{\\pi}{4} = 4 \\tan^{-1} \\left(\\frac{1}{5}\\right) - \\tan^{-1} \\left(\\frac{1}{239}\\right)$ Determine el número de términos que se deben sumar para garantizar una aproximación $\\pi$ dentro de $10^{-3}$.\n",
    "\n",
    "-Pseudocódigo\n",
    "\n",
    "INICIO\\\n",
    "    1. Definir función arctan_series(x, n) que calcula $arctan(x)$ usando n términos\\\n",
    "    2. Definir función calcular_pi(n1, n2) usando la fórmula dada\\\n",
    "    3. Inicializar n = 1\\\n",
    "    4. Mientras $error > 10^{-23}$:\\\n",
    "        - Calcular $\\pi$ aproximado con n términos\\\n",
    "        - Calcular error absoluto\\\n",
    "        - Incrementar n\\\n",
    "    5. Devolver n requerido\\\n",
    "FIN"
   ]
  },
  {
   "cell_type": "code",
   "execution_count": null,
   "id": "044cebca",
   "metadata": {},
   "outputs": [
    {
     "name": "stdout",
     "output_type": "stream",
     "text": [
      "Advertencia: Convergencia no alcanzada en 1000 términos\n",
      "Número de términos requeridos: 1001\n",
      "Aproximación de π: 3.1415926535897936\n",
      "Error absoluto: 4.440892098500626e-16\n",
      "¿Cumple con 10^-23? No\n"
     ]
    }
   ],
   "source": [
    "import math\n",
    "\n",
    "def arctan_series(x, n_terms):\n",
    "    \"\"\"Calcula arctan(x) usando series de Maclaurin con n términos\"\"\"\n",
    "    return sum((-1)**k * x**(2*k + 1) / (2*k + 1) for k in range(n_terms))\n",
    "\n",
    "def calcular_pi(n_terms):\n",
    "    \"\"\"Calcula π usando la fórmula dada con n términos en cada serie\"\"\"\n",
    "    term1 = 4 * arctan_series(1/5, n_terms)\n",
    "    term2 = arctan_series(1/239, n_terms)\n",
    "    return 4 * (term1 - term2)\n",
    "\n",
    "def encontrar_terminos_requeridos():\n",
    "    \"\"\"Determina el número de términos necesario para precisión 10^-23\"\"\"\n",
    "    n = 1\n",
    "    while True:\n",
    "        pi_approx = calcular_pi(n)\n",
    "        error = abs(pi_approx - math.pi)\n",
    "        if error < 1e-23:\n",
    "            return n\n",
    "        n += 1\n",
    "        # Prevención para no exceder límites computacionales\n",
    "        if n > 1000:\n",
    "            print(\"Advertencia: Convergencia no alcanzada en 1000 términos\")\n",
    "            return n\n",
    "\n",
    "# Calcular términos requeridos\n",
    "n_requerido = encontrar_terminos_requeridos()\n",
    "pi_aproximado = calcular_pi(n_requerido)\n",
    "error = abs(pi_aproximado - math.pi)\n",
    "\n",
    "# Resultados\n",
    "print(f\"Número de términos requeridos: {n_requerido}\")\n",
    "print(f\"Aproximación de π: {pi_aproximado}\")\n",
    "print(f\"Error absoluto: {error}\")\n",
    "print(f\"¿Cumple con 10^-23? {'Sí' if error < 1e-23 else 'No'}\")"
   ]
  },
  {
   "cell_type": "markdown",
   "id": "78208e8a",
   "metadata": {},
   "source": [
    "4. Compare los siguientes tres algoritmos. ¿Cuándo es correcto el algoritmo de la parte 1a?\n"
   ]
  },
  {
   "cell_type": "markdown",
   "id": "34f2acd1",
   "metadata": {},
   "source": [
    "a. Producto iniciando en 0\n",
    "\n",
    "Entrada $ n, x_1, x_2, \\ldots, x_n $  \n",
    "Salida PRODUCT  \n",
    "Paso 1 Establecer PRODUCT = 0  \n",
    "Paso 2 Para $ i = 1, 2, \\ldots, n $, hacer:  \n",
    "            PRODUCT = PRODUCT * $x_i$  \n",
    "Paso 3 Salida: PRODUCT  \n",
    "Parar"
   ]
  },
  {
   "cell_type": "code",
   "execution_count": 38,
   "id": "0c7be03c",
   "metadata": {},
   "outputs": [],
   "source": [
    "def algoritmo_a(x):\n",
    "    product = 0\n",
    "    for num in x:\n",
    "        product = product * num\n",
    "    return product"
   ]
  },
  {
   "cell_type": "markdown",
   "id": "6c979261",
   "metadata": {},
   "source": [
    "b. Producto iniciando en 1\n",
    "\n",
    "Entrada $ n, x_1, x_2, \\ldots, x_n $  \n",
    "Salida PRODUCT  \n",
    "Paso 1 Establecer PRODUCT = 1  \n",
    "Paso 2 Para $ i = 1, 2, \\ldots, n $, hacer:  \n",
    "            PRODUCT = PRODUCT * $x_i$  \n",
    "Paso 3 Salida: PRODUCT  \n",
    "Parar"
   ]
  },
  {
   "cell_type": "code",
   "execution_count": 39,
   "id": "9a62451c",
   "metadata": {},
   "outputs": [],
   "source": [
    "def algoritmo_b(x):\n",
    "    product = 1\n",
    "    for num in x:\n",
    "        product = product * num\n",
    "    return product"
   ]
  },
  {
   "cell_type": "markdown",
   "id": "fd25f51d",
   "metadata": {},
   "source": [
    "c. Producto con verificación de ceros\n",
    "\n",
    "Entrada $ n, x_1, x_2, \\ldots, x_n $  \n",
    "Salida PRODUCT  \n",
    "Paso 1 Establecer PRODUCT = 1  \n",
    "Paso 2 Para $ i = 1, 2, \\ldots, n $, hacer:  \n",
    "            Si $x_i = 0$, entonces:  \n",
    "                Establecer PRODUCT = 0  \n",
    "                Salida: PRODUCT  \n",
    "                Parar  \n",
    "            PRODUCT = PRODUCT * $x_i$  \n",
    "Paso 3 Salida: PRODUCT  \n",
    "Parar\n"
   ]
  },
  {
   "cell_type": "code",
   "execution_count": 40,
   "id": "144c48b1",
   "metadata": {},
   "outputs": [],
   "source": [
    "def algoritmo_c(x):\n",
    "    product = 1\n",
    "    for num in x:\n",
    "        if num == 0:\n",
    "            return 0\n",
    "        product = product * num\n",
    "    return product"
   ]
  },
  {
   "cell_type": "code",
   "execution_count": 41,
   "id": "2e5f184a",
   "metadata": {},
   "outputs": [
    {
     "name": "stdout",
     "output_type": "stream",
     "text": [
      "Comparación de algoritmos:\n",
      "\n",
      "Caso de prueba  Algoritmo A     Algoritmo B     Algoritmo C    \n",
      "[1, 2, 3, 4]    0 ✗             24 ✓            24 ✓           \n",
      "[2, 2, 2]       0 ✗             8 ✓             8 ✓            \n",
      "[5, 0, 3]       0 ✓             0 ✓             0 ✓            \n",
      "[]              0 ✗             1 ✓             1 ✓            \n",
      "[0.5, 2]        0.0 ✗           1.0 ✓           1.0 ✓          \n",
      "[-1, 1, -1]     0 ✗             1 ✗             1 ✗            \n"
     ]
    }
   ],
   "source": [
    "# Casos de prueba\n",
    "test_cases = [\n",
    "    ([1, 2, 3, 4], 24),\n",
    "    ([2, 2, 2], 8),\n",
    "    ([5, 0, 3], 0),\n",
    "    ([], 1),         # Producto vacío\n",
    "    ([0.5, 2], 1.0),\n",
    "    ([-1, 1, -1], -1)\n",
    "]\n",
    "\n",
    "# Evaluación de los algoritmos\n",
    "print(\"Comparación de algoritmos:\\n\")\n",
    "print(\"{:<15} {:<15} {:<15} {:<15}\".format(\n",
    "    \"Caso de prueba\", \"Algoritmo A\", \"Algoritmo B\", \"Algoritmo C\"))\n",
    "\n",
    "for nums, expected in test_cases:\n",
    "    a = algoritmo_a(nums)\n",
    "    b = algoritmo_b(nums)\n",
    "    c = algoritmo_c(nums)\n",
    "    \n",
    "    print(\"{:<15} {:<15} {:<15} {:<15}\".format(\n",
    "        str(nums),\n",
    "        str(a) + (\" ✓\" if a == expected else \" ✗\"),\n",
    "        str(b) + (\" ✓\" if b == expected else \" ✗\"),\n",
    "        str(c) + (\" ✓\" if c == expected else \" ✗\")))"
   ]
  },
  {
   "cell_type": "markdown",
   "id": "6e205551",
   "metadata": {},
   "source": [
    "- Para cualquier caso general, los algoritmos B y C son correctos.\n",
    "- El algoritmo C es mejor en casos con ceros.\n",
    "- El algoritmo B es más simple para listas pequeñas."
   ]
  },
  {
   "cell_type": "markdown",
   "id": "14048b1f",
   "metadata": {},
   "source": [
    "5.  a. ¿Cuántas multiplicaciones y sumas se requieren para determinar una suma de la forma?\n",
    "$$\\sum_{i=1}^{n} \\sum_{j=1}^{i} a_i b_j$$\n",
    "\n",
    "- Pseudocódigo\n",
    "\n",
    "INICIO  \n",
    "    1. Para cada par $(i, j)$ se realiza 1 multiplicación: $a_i \\cdot b_j$  \n",
    "    2. Se requieren $(n \\cdot l - 1)$ sumas para agregar todos los términos  \n",
    "    3. Total: $n \\cdot l$ multiplicaciones + $(n \\cdot l - 1)$ sumas  \n",
    "FIN\n"
   ]
  },
  {
   "cell_type": "code",
   "execution_count": 42,
   "id": "2ad633c2",
   "metadata": {},
   "outputs": [
    {
     "name": "stdout",
     "output_type": "stream",
     "text": [
      "Para n=5, l=3:\n",
      "Multiplicaciones: 15\n",
      "Sumas: 14\n",
      "Total operaciones: 29\n"
     ]
    }
   ],
   "source": [
    "def operaciones_original(n, l):\n",
    "    mult = n * l\n",
    "    sumas = n * l - 1\n",
    "    return mult, sumas\n",
    "\n",
    "n, l = 5, 3\n",
    "mult, sumas = operaciones_original(n, l)\n",
    "print(f\"Para n={n}, l={l}:\")\n",
    "print(f\"Multiplicaciones: {mult}\")\n",
    "print(f\"Sumas: {sumas}\")\n",
    "print(f\"Total operaciones: {mult + sumas}\")\n"
   ]
  },
  {
   "cell_type": "markdown",
   "id": "7201718a",
   "metadata": {},
   "source": [
    "b.- Modifique la suma en la parte a) a un formato equivalente que reduzca el número de cálculos.\n",
    "\n",
    "INICIO  \n",
    "    1. Calcular $\\text{suma\\_A} = \\sum a_i$ con $(n - 1)$ sumas  \n",
    "    2. Calcular $\\text{suma\\_B} = \\sum b_j$ con $(l - 1)$ sumas  \n",
    "    3. Multiplicar $\\text{suma\\_A} \\cdot \\text{suma\\_B}$ (1 operación)  \n",
    "    4. Total: 1 multiplicación + $(n + l - 2)$ sumas  \n",
    "FIN\n"
   ]
  },
  {
   "cell_type": "code",
   "execution_count": 43,
   "id": "719a016a",
   "metadata": {},
   "outputs": [
    {
     "name": "stdout",
     "output_type": "stream",
     "text": [
      "Para n=5, l=3:\n",
      "Multiplicaciones: 1\n",
      "Sumas: 6\n",
      "Total operaciones: 7\n"
     ]
    }
   ],
   "source": [
    "def operaciones_optimizadas(n, l):\n",
    "    sumas = (n - 1) + (l - 1)\n",
    "    mult = 1\n",
    "    return mult, sumas\n",
    "\n",
    "n, l = 5, 3\n",
    "mult, sumas = operaciones_optimizadas(n, l)\n",
    "print(f\"Para n={n}, l={l}:\")\n",
    "print(f\"Multiplicaciones: {mult}\")\n",
    "print(f\"Sumas: {sumas}\")\n",
    "print(f\"Total operaciones: {mult + sumas}\")\n"
   ]
  },
  {
   "cell_type": "markdown",
   "id": "9df02b8b",
   "metadata": {},
   "source": [
    "## DISCUSIONES\n",
    "\n",
    "1. Escriba un algoritmo para sumar la serie finita:$\\sum_{i=1}^{n} x_i$ en orden inverso.\n",
    "\n",
    "- Pseudocódigo\n",
    "\n",
    "INICIO  \n",
    "    1. Leer lista de números $x = [x_1, x_2, \\ldots, x_n]$  \n",
    "    2. Inicializar $\\text{suma} = 0$  \n",
    "    3. Para cada elemento en orden inverso (de $x_n$ a $x_1$):  \n",
    "        a. Sumar elemento al acumulador  \n",
    "    4. Devolver resultado  \n",
    "FIN\n"
   ]
  },
  {
   "cell_type": "code",
   "execution_count": 44,
   "id": "511260fe",
   "metadata": {},
   "outputs": [
    {
     "name": "stdout",
     "output_type": "stream",
     "text": [
      "Lista original: [1, 2, 3, 4, 5]\n",
      "Suma en orden inverso: 15\n"
     ]
    }
   ],
   "source": [
    "def suma_inversa(x):\n",
    "    suma = 0\n",
    "    for elemento in reversed(x):\n",
    "        suma += elemento\n",
    "    return suma\n",
    "\n",
    "datos = [1, 2, 3, 4, 5]\n",
    "resultado = suma_inversa(datos)\n",
    "print(f\"Lista original: {datos}\")\n",
    "print(f\"Suma en orden inverso: {resultado}\")\n"
   ]
  },
  {
   "cell_type": "markdown",
   "id": "d40a6766",
   "metadata": {},
   "source": [
    "2. Las ecuaciones (1.2) y (1.3) en la sección 1.2 proporcionan formas alternativas para las raíces $ x_1 $ y $ x_2 $ de: $ax^2 + bx + c = 0$ Construya un algoritmo con entrada $ a, b, c $ y salida $ x_1, x_2 $ que calcule las raíces $ x_1 $ y $ x_2 $ (que pueden ser iguales o conjugados complejos) mediante la mejor fórmula para cada raíz."
   ]
  },
  {
   "cell_type": "code",
   "execution_count": 45,
   "id": "bce6f3ee",
   "metadata": {},
   "outputs": [
    {
     "name": "stdout",
     "output_type": "stream",
     "text": [
      "Resultados para diferentes casos:\n",
      "Coeficientes                   Raíz x₁                        Raíz x₂                       \n",
      "a=1, b=5, c=6                  -3                             -2                            \n",
      "a=1, b=-4, c=4                 2                              2                             \n",
      "a=1, b=0, c=1                  0-1j                           -0+1j                         \n",
      "a=1, b=10000000000.0, c=1      -10000000000                   -1e-10                        \n",
      "a=1, b=-100000.0, c=1          99999.99999                    1.0000000001e-05              \n"
     ]
    }
   ],
   "source": [
    "import cmath\n",
    "import math\n",
    "\n",
    "def raices_cuadraticas(a, b, c):\n",
    "    \"\"\"Calcula las raíces de ax² + bx + c = 0 con máxima precisión\"\"\"\n",
    "    if a == 0:\n",
    "        raise ValueError(\"El coeficiente 'a' no puede ser cero\")\n",
    "    \n",
    "    D = b**2 - 4*a*c\n",
    "    sqrt_D = cmath.sqrt(D) if D < 0 else math.sqrt(D)\n",
    "    \n",
    "    # Evitar resta catastrófica\n",
    "    if b >= 0:\n",
    "        x1 = (-b - sqrt_D)/(2*a)\n",
    "    else:\n",
    "        x1 = (-b + sqrt_D)/(2*a)\n",
    "    \n",
    "    # Usar relación de Vieta para la segunda raíz\n",
    "    x2 = (c/a)/x1 if x1 != 0 else (-b)/(a)\n",
    "    \n",
    "    return x1, x2\n",
    "\n",
    "casos_prueba = [\n",
    "    (1, 5, 6),    # Raíces reales distintas\n",
    "    (1, -4, 4),   # Raíz real doble\n",
    "    (1, 0, 1),    # Raíces complejas\n",
    "    (1, 1e10, 1), # Caso de resta catastrófica\n",
    "    (1, -1e5, 1)  # Otro caso delicado\n",
    "]\n",
    "\n",
    "print(\"Resultados para diferentes casos:\")\n",
    "print(\"{:<30} {:<30} {:<30}\".format(\"Coeficientes\", \"Raíz x₁\", \"Raíz x₂\"))\n",
    "for a, b, c in casos_prueba:\n",
    "    x1, x2 = raices_cuadraticas(a, b, c)\n",
    "    print(\"{:<30} {:<30} {:<30}\".format(\n",
    "        f\"a={a}, b={b}, c={c}\",\n",
    "        f\"{x1:.15g}\",\n",
    "        f\"{x2:.15g}\"))"
   ]
  },
  {
   "cell_type": "markdown",
   "id": "07f90d30",
   "metadata": {},
   "source": [
    "3. Suponga que:$$\\frac{1 - 2x}{1 - x + x^2} + \\frac{2x - 4x^3}{1 - x^2 + x^4} + \\frac{4x^3 - 8x^7}{1 - x^4 + x^8} + \\dots = \\frac{1 + 2x}{1 + x + x^2}$$ Para $x < 1 $ y si $ x = 0.25 $. Escriba y ejecute un algoritmo que determine el número de términos necesarios en el lado izquierdo de la ecuación de tal forma que el lado izquierdo difiera del lado derecho en menos de $ 10^{-6} $."
   ]
  },
  {
   "cell_type": "code",
   "execution_count": 46,
   "id": "27a0de26",
   "metadata": {},
   "outputs": [],
   "source": [
    "def termino_serie(n, x):\n",
    "    \"\"\"Calcula el n-ésimo término de la serie izquierda\"\"\"\n",
    "    exponente = 2**(n-1)\n",
    "    numerador = (2**(n-1) * x**(exponente - 1)) - (2**n * x**(2*exponente - 1))\n",
    "    denominador = 1 - x**exponente + x**(2*exponente)\n",
    "    return numerador / denominador\n",
    "\n",
    "def valor_derecho(x):\n",
    "    \"\"\"Calcula el valor del lado derecho de la ecuación\"\"\"\n",
    "    return (1 + 2*x) / (1 + x + x**2)\n",
    "\n",
    "def calcular_terminos_necesarios(x, tolerancia):\n",
    "    \"\"\"Determina cuántos términos se necesitan para alcanzar la precisión deseada\"\"\"\n",
    "    suma = 0.0\n",
    "    n = 1\n",
    "    objetivo = valor_derecho(x)\n",
    "    \n",
    "    while True:\n",
    "        suma += termino_serie(n, x)\n",
    "        if abs(suma - objetivo) < tolerancia:\n",
    "            return n\n",
    "        n += 1\n",
    "        # Prevención para evitar bucles infinitos\n",
    "        if n > 100:\n",
    "            raise ValueError(\"No se alcanzó la convergencia en 100 términos\")"
   ]
  },
  {
   "cell_type": "code",
   "execution_count": 47,
   "id": "d8e410ad",
   "metadata": {},
   "outputs": [
    {
     "name": "stdout",
     "output_type": "stream",
     "text": [
      "Número de términos necesarios: 4\n",
      "Valor de la serie: 1.14285713\n",
      "Valor exacto: 1.14285714\n",
      "Diferencia: 1.49e-08\n"
     ]
    }
   ],
   "source": [
    "x = 0.25\n",
    "error_limite = 1e-6\n",
    "\n",
    "# Cálculo de resultados\n",
    "n_final = calcular_terminos_necesarios(x, error_limite)\n",
    "suma_final = sum(termino_serie(i, x) for i in range(1, n_final+1))\n",
    "valor_exacto = valor_derecho(x)\n",
    "\n",
    "# Presentación de resultados\n",
    "print(f\"Número de términos necesarios: {n_final}\")\n",
    "print(f\"Valor de la serie: {suma_final:.8f}\")\n",
    "print(f\"Valor exacto: {valor_exacto:.8f}\")\n",
    "print(f\"Diferencia: {abs(suma_final - valor_exacto):.2e}\")"
   ]
  }
 ],
 "metadata": {
  "kernelspec": {
   "display_name": "Python 3",
   "language": "python",
   "name": "python3"
  },
  "language_info": {
   "codemirror_mode": {
    "name": "ipython",
    "version": 3
   },
   "file_extension": ".py",
   "mimetype": "text/x-python",
   "name": "python",
   "nbconvert_exporter": "python",
   "pygments_lexer": "ipython3",
   "version": "3.13.3"
  }
 },
 "nbformat": 4,
 "nbformat_minor": 5
}
